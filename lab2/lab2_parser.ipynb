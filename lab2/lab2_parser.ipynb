{
  "nbformat": 4,
  "nbformat_minor": 0,
  "metadata": {
    "colab": {
      "name": "lab2_parser.ipynb",
      "provenance": [],
      "include_colab_link": true
    },
    "kernelspec": {
      "name": "python3",
      "display_name": "Python 3"
    }
  },
  "cells": [
    {
      "cell_type": "markdown",
      "metadata": {
        "id": "view-in-github",
        "colab_type": "text"
      },
      "source": [
        "<a href=\"https://colab.research.google.com/github/ola808/NLP/blob/master/lab2/lab2_parser.ipynb\" target=\"_parent\"><img src=\"https://colab.research.google.com/assets/colab-badge.svg\" alt=\"Open In Colab\"/></a>"
      ]
    },
    {
      "cell_type": "code",
      "metadata": {
        "id": "OslvgTeuCk-i",
        "colab_type": "code",
        "outputId": "233687bd-c505-43db-d57b-da7ae062431c",
        "colab": {
          "base_uri": "https://localhost:8080/",
          "height": 204
        }
      },
      "source": [
        "CHARGE_NUMBER = 54\n",
        "import pandas as pd\n",
        "df = pd.read_csv(\"Lab2_words.csv\")\n",
        "charge = df.loc[df['IN CHARGE NUMBER'] == CHARGE_NUMBER]\n",
        "charge.head(5)"
      ],
      "execution_count": 0,
      "outputs": [
        {
          "output_type": "execute_result",
          "data": {
            "text/html": [
              "<div>\n",
              "<style scoped>\n",
              "    .dataframe tbody tr th:only-of-type {\n",
              "        vertical-align: middle;\n",
              "    }\n",
              "\n",
              "    .dataframe tbody tr th {\n",
              "        vertical-align: top;\n",
              "    }\n",
              "\n",
              "    .dataframe thead th {\n",
              "        text-align: right;\n",
              "    }\n",
              "</style>\n",
              "<table border=\"1\" class=\"dataframe\">\n",
              "  <thead>\n",
              "    <tr style=\"text-align: right;\">\n",
              "      <th></th>\n",
              "      <th>Unnamed: 0</th>\n",
              "      <th>IN CHARGE NUMBER</th>\n",
              "      <th>IN CHARGE NAME</th>\n",
              "      <th>HYPONYM</th>\n",
              "      <th>HYPERNYM</th>\n",
              "      <th>HYPERNYM.1</th>\n",
              "      <th>HYPERNYM.2</th>\n",
              "      <th>HYPERNYM.3</th>\n",
              "      <th>HYPERNYM.4</th>\n",
              "      <th>HYPERNYM.5</th>\n",
              "      <th>HYPERNYM.6</th>\n",
              "      <th>HYPERNYM.7</th>\n",
              "      <th>HYPERNYM.8</th>\n",
              "      <th>HYPERNYM.9</th>\n",
              "    </tr>\n",
              "  </thead>\n",
              "  <tbody>\n",
              "    <tr>\n",
              "      <th>1272</th>\n",
              "      <td>1273</td>\n",
              "      <td>54</td>\n",
              "      <td>Olzhas Amirov</td>\n",
              "      <td>ТАКСИДЕРМИЯ</td>\n",
              "      <td>NaN</td>\n",
              "      <td>NaN</td>\n",
              "      <td>NaN</td>\n",
              "      <td>NaN</td>\n",
              "      <td>NaN</td>\n",
              "      <td>NaN</td>\n",
              "      <td>NaN</td>\n",
              "      <td>NaN</td>\n",
              "      <td>NaN</td>\n",
              "      <td>NaN</td>\n",
              "    </tr>\n",
              "    <tr>\n",
              "      <th>1273</th>\n",
              "      <td>1274</td>\n",
              "      <td>54</td>\n",
              "      <td>Olzhas Amirov</td>\n",
              "      <td>ТАЛЛИЙ</td>\n",
              "      <td>NaN</td>\n",
              "      <td>NaN</td>\n",
              "      <td>NaN</td>\n",
              "      <td>NaN</td>\n",
              "      <td>NaN</td>\n",
              "      <td>NaN</td>\n",
              "      <td>NaN</td>\n",
              "      <td>NaN</td>\n",
              "      <td>NaN</td>\n",
              "      <td>NaN</td>\n",
              "    </tr>\n",
              "    <tr>\n",
              "      <th>1274</th>\n",
              "      <td>1275</td>\n",
              "      <td>54</td>\n",
              "      <td>Olzhas Amirov</td>\n",
              "      <td>ТАНИН</td>\n",
              "      <td>NaN</td>\n",
              "      <td>NaN</td>\n",
              "      <td>NaN</td>\n",
              "      <td>NaN</td>\n",
              "      <td>NaN</td>\n",
              "      <td>NaN</td>\n",
              "      <td>NaN</td>\n",
              "      <td>NaN</td>\n",
              "      <td>NaN</td>\n",
              "      <td>NaN</td>\n",
              "    </tr>\n",
              "    <tr>\n",
              "      <th>1275</th>\n",
              "      <td>1276</td>\n",
              "      <td>54</td>\n",
              "      <td>Olzhas Amirov</td>\n",
              "      <td>ТАНКЕТКА</td>\n",
              "      <td>NaN</td>\n",
              "      <td>NaN</td>\n",
              "      <td>NaN</td>\n",
              "      <td>NaN</td>\n",
              "      <td>NaN</td>\n",
              "      <td>NaN</td>\n",
              "      <td>NaN</td>\n",
              "      <td>NaN</td>\n",
              "      <td>NaN</td>\n",
              "      <td>NaN</td>\n",
              "    </tr>\n",
              "    <tr>\n",
              "      <th>1276</th>\n",
              "      <td>1277</td>\n",
              "      <td>54</td>\n",
              "      <td>Olzhas Amirov</td>\n",
              "      <td>ТАПИР</td>\n",
              "      <td>NaN</td>\n",
              "      <td>NaN</td>\n",
              "      <td>NaN</td>\n",
              "      <td>NaN</td>\n",
              "      <td>NaN</td>\n",
              "      <td>NaN</td>\n",
              "      <td>NaN</td>\n",
              "      <td>NaN</td>\n",
              "      <td>NaN</td>\n",
              "      <td>NaN</td>\n",
              "    </tr>\n",
              "  </tbody>\n",
              "</table>\n",
              "</div>"
            ],
            "text/plain": [
              "      Unnamed: 0  IN CHARGE NUMBER  ... HYPERNYM.8 HYPERNYM.9\n",
              "1272        1273                54  ...        NaN        NaN\n",
              "1273        1274                54  ...        NaN        NaN\n",
              "1274        1275                54  ...        NaN        NaN\n",
              "1275        1276                54  ...        NaN        NaN\n",
              "1276        1277                54  ...        NaN        NaN\n",
              "\n",
              "[5 rows x 14 columns]"
            ]
          },
          "metadata": {
            "tags": []
          },
          "execution_count": 1
        }
      ]
    },
    {
      "cell_type": "code",
      "metadata": {
        "id": "UP9CWHZYkYuJ",
        "colab_type": "code",
        "outputId": "b71ce0a9-71fb-4d05-e75a-cacf97342aac",
        "colab": {
          "base_uri": "https://localhost:8080/",
          "height": 425
        }
      },
      "source": [
        "for index, row in charge.iterrows():\n",
        "    print(row['HYPONYM'])"
      ],
      "execution_count": 0,
      "outputs": [
        {
          "output_type": "stream",
          "text": [
            "ТАКСИДЕРМИЯ\n",
            "ТАЛЛИЙ\n",
            "ТАНИН\n",
            "ТАНКЕТКА\n",
            "ТАПИР\n",
            "ТАРАНТАС\n",
            "ТАРАНТУЛ\n",
            "ТАРАНЬ\n",
            "ТАХОГРАФ\n",
            "ТАЭКВОНДИСТ\n",
            "ТВОРОЖНИК\n",
            "ТЕЗАУРУС\n",
            "ТЕКСТОВКА\n",
            "ТЕЛЕГРАФИСТ\n",
            "ТЕЛЕПАТ\n",
            "ТЕЛЕПАТИЯ\n",
            "ТЕЛЕТАЙП\n",
            "ТЕЛЕТЕКСТ\n",
            "ТЕННИСКА\n",
            "ТЕОДОЛИТ\n",
            "ТЕРМОПЛАСТ\n",
            "ТЕРМОСТАТ\n",
            "ТЕРЦИЯ\n",
            "ТЕТИВА\n"
          ],
          "name": "stdout"
        }
      ]
    },
    {
      "cell_type": "code",
      "metadata": {
        "id": "a1U4gqSExpNP",
        "colab_type": "code",
        "outputId": "3db3aaad-13e3-423c-c8ae-48ee53502b93",
        "colab": {
          "base_uri": "https://localhost:8080/",
          "height": 425
        }
      },
      "source": [
        "import urllib.request\n",
        "import time\n",
        "from bs4 import BeautifulSoup\n",
        "from urllib.parse import quote\n",
        "urn = \"https://ru.wiktionary.org/wiki/\"\n",
        "for index, row in charge.iterrows():\n",
        "    uri = quote(row['HYPONYM'].lower(),safe='')\n",
        "    url = urn + uri\n",
        "    try:\n",
        "          source = urllib.request.urlopen(url).read()\n",
        "    except:\n",
        "      continue\n",
        "    soup = BeautifulSoup(source)\n",
        "    span = soup.select_one(\"#Гиперонимы\")\n",
        "    h4 = span.find_parent('h4')\n",
        "    ol = h4.find_next_sibling('ol')\n",
        "    hyponyms = row['HYPONYM'] + \" : \"\n",
        "    for li in ol.find_all('li'):\n",
        "      try:\n",
        "        if li.text:\n",
        "          hyponyms  += li.text.upper() + \", \"\n",
        "      except: \n",
        "        continue\n",
        "    print(hyponyms.replace(\",\",\";\"))\n",
        "    time.sleep(3.0)"
      ],
      "execution_count": 0,
      "outputs": [
        {
          "output_type": "stream",
          "text": [
            "ТАКСИДЕРМИЯ : \n",
            "ТАЛЛИЙ : ЭЛЕМЕНТ; \n",
            "ТАНИН : \n",
            "ТАНКЕТКА : БРОНЕМАШИНА; \n",
            "ТАПИР : МЛЕКОПИТАЮЩЕЕ; ЖИВОТНОЕ; \n",
            "ТАРАНТАС : ПОВОЗКА; АВТОМОБИЛЬ; \n",
            "ТАРАНТУЛ : ПАУК; \n",
            "ТАРАНЬ : \n",
            "ТАХОГРАФ : УСТРОЙСТВО; \n",
            "ТАЭКВОНДИСТ : \n",
            "ТВОРОЖНИК : \n",
            "ТЕЗАУРУС : СЛОВАРЬ; \n",
            "ТЕКСТОВКА : ТЕКСТ; ТЕКСТ; \n",
            "ТЕЛЕГРАФИСТ : СВЯЗИСТ; \n",
            "ТЕЛЕПАТ : ЭКСТРАСЕНС; \n",
            "ТЕЛЕПАТИЯ : ПАРАПСИХОЛОГИЯ; \n",
            "ТЕЛЕТАЙП : \n",
            "ТЕЛЕТЕКСТ : \n",
            "ТЕННИСКА : ОДЕЖДА; \n",
            "ТЕОДОЛИТ : ПРИБОР; \n",
            "ТЕРМОПЛАСТ : ПЛАСТМАССА; МАТЕРИАЛ; \n",
            "ТЕРМОСТАТ : ТЕРМОРЕГУЛЯТОР; \n",
            "ТЕРЦИЯ : НОТА; НОТА; ИНТЕРВАЛ; КЕГЛЬ; ШРИФТ; \n",
            "ТЕТИВА : БЕЧЕВА; СТРУНА; ВЕРЁВКА; БЕЧЕВА; ТРОС; БАЛКА; \n"
          ],
          "name": "stdout"
        }
      ]
    }
  ]
}